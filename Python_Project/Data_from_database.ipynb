{
 "cells": [
  {
   "cell_type": "markdown",
   "metadata": {},
   "source": [
    "# Pull data from database"
   ]
  },
  {
   "cell_type": "markdown",
   "metadata": {},
   "source": [
    "## packages needed"
   ]
  },
  {
   "cell_type": "code",
   "execution_count": 1,
   "metadata": {},
   "outputs": [],
   "source": [
    "import sqlite3\n",
    "import pandas as pd"
   ]
  },
  {
   "cell_type": "markdown",
   "metadata": {},
   "source": [
    "## Main code"
   ]
  },
  {
   "cell_type": "code",
   "execution_count": 2,
   "metadata": {},
   "outputs": [],
   "source": [
    "# connect to the database and extract the table we need \n",
    "sqlite_file = 'files/database.sqlite'\n",
    "conn = sqlite3.connect(sqlite_file)\n",
    "c = conn.cursor()\n",
    "c.execute(\"drop table NewTable\")\n",
    "c.execute(\"select name from sqlite_master where type='table' order by name\")\n",
    "table_name = c.fetchall()[0][0]"
   ]
  },
  {
   "cell_type": "code",
   "execution_count": 3,
   "metadata": {},
   "outputs": [],
   "source": [
    "# get the full content of the database table\n",
    "sql = \"select * from \"+table_name+\";\"\n",
    "c.execute(sql)\n",
    "full_content = c.fetchall()"
   ]
  },
  {
   "cell_type": "code",
   "execution_count": 4,
   "metadata": {},
   "outputs": [],
   "source": [
    "# get table description\n",
    "c.execute(\"PRAGMA table_info(hist)\")\n",
    "description = c.fetchall()"
   ]
  },
  {
   "cell_type": "code",
   "execution_count": 5,
   "metadata": {},
   "outputs": [],
   "source": [
    "# get column name\n",
    "c.execute(\"SELECT * FROM {}\".format(table_name))\n",
    "col_name_list = [tuple[0] for tuple in c.description]"
   ]
  },
  {
   "cell_type": "code",
   "execution_count": 6,
   "metadata": {},
   "outputs": [
    {
     "data": {
      "text/plain": [
       "<sqlite3.Cursor at 0x248724b2490>"
      ]
     },
     "execution_count": 6,
     "metadata": {},
     "output_type": "execute_result"
    }
   ],
   "source": [
    "# delete unnecessary information by creating a new table\n",
    "create_new_table = \"create table NewTable (AUNbr text, [School Name] text, [School Number] text, [Assaults on Staff] int, [Assaults on Students] int, [Conduct OSS] real, county text, enrollment int)\"\n",
    "c.execute(create_new_table)"
   ]
  },
  {
   "cell_type": "code",
   "execution_count": 7,
   "metadata": {},
   "outputs": [],
   "source": [
    "# select the information we need from the original table\n",
    "sql = \"select AUNbr, [School Name], [School Number], [Assaults on Staff], [Assaults on Students],[Conduct OSS], county, enrollment from \" + table_name\n",
    "c.execute(sql)\n",
    "to_be_inserted = c.fetchall()"
   ]
  },
  {
   "cell_type": "code",
   "execution_count": 8,
   "metadata": {},
   "outputs": [],
   "source": [
    "# insert the filtered data into the new table we create before\n",
    "for i in to_be_inserted:\n",
    "    insertion = \"insert into NewTable values(?,?,?,?,?,?,?,?)\"\n",
    "    c.execute(insertion, i)\n",
    "c.execute(\"select * from NewTable\")\n",
    "data = c.fetchall()"
   ]
  },
  {
   "cell_type": "code",
   "execution_count": 9,
   "metadata": {},
   "outputs": [],
   "source": [
    "# store the new table into a dataframe\n",
    "# fill the null value with 0 if the column is numeric type\n",
    "# for other missing value, for our convenient, delete the records\n",
    "headers = [\"AUNbr\",\"School Name\",\"School Number\",\"Assaults on Staff\",\"Assaults on Students\",\"Conduct OSS\",\"county\",\"enrollment\"]\n",
    "df = pd.DataFrame.from_records(data, columns = headers)\n",
    "df[['Assaults on Staff', 'Assaults on Students']] = df[['Assaults on Staff', 'Assaults on Students']].fillna(0)\n",
    "df.dropna(axis=0, how='any', inplace=True)"
   ]
  },
  {
   "cell_type": "code",
   "execution_count": 10,
   "metadata": {},
   "outputs": [],
   "source": [
    "# save the data into a csv file\n",
    "df.to_csv(\"files/School_Safety_Data.csv\",header = True)"
   ]
  }
 ],
 "metadata": {
  "kernelspec": {
   "display_name": "Python 3",
   "language": "python",
   "name": "python3"
  },
  "language_info": {
   "codemirror_mode": {
    "name": "ipython",
    "version": 3
   },
   "file_extension": ".py",
   "mimetype": "text/x-python",
   "name": "python",
   "nbconvert_exporter": "python",
   "pygments_lexer": "ipython3",
   "version": "3.6.5"
  }
 },
 "nbformat": 4,
 "nbformat_minor": 2
}
