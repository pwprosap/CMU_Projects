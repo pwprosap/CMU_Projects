{
 "cells": [
  {
   "cell_type": "markdown",
   "metadata": {},
   "source": [
    "# Web Scraping from Statistical Atlas"
   ]
  },
  {
   "cell_type": "markdown",
   "metadata": {},
   "source": [
    "### packages needed"
   ]
  },
  {
   "cell_type": "code",
   "execution_count": 1,
   "metadata": {},
   "outputs": [],
   "source": [
    "import requests\n",
    "import pandas as pd\n",
    "from bs4 import BeautifulSoup"
   ]
  },
  {
   "cell_type": "markdown",
   "metadata": {},
   "source": [
    "this is the root URL for the website, which will be used multiple times in following codes"
   ]
  },
  {
   "cell_type": "code",
   "execution_count": 2,
   "metadata": {},
   "outputs": [],
   "source": [
    "root = \"https://statisticalatlas.com\""
   ]
  },
  {
   "cell_type": "markdown",
   "metadata": {},
   "source": [
    "## Main codes"
   ]
  },
  {
   "cell_type": "code",
   "execution_count": 3,
   "metadata": {},
   "outputs": [],
   "source": [
    "# get all county url, default as under category \"Educational-Attainment\"\n",
    "def get_url_list(replacement = \"/Educational-Attainment\"):\n",
    "    first_page = root + \"/state/Pennsylvania/Overview\"\n",
    "    html = requests.get(first_page)\n",
    "    soup = BeautifulSoup(html.content,'html.parser')\n",
    "    counties = soup.select(\"div.info-table-contents-div a\")\n",
    "    url_list = []\n",
    "    for county in counties:\n",
    "        url = county['href']\n",
    "        url = url.replace(\"/Overview\",replacement)\n",
    "        if url.startswith(\"/county\"):\n",
    "            url = root+url\n",
    "            url_list.append(url)\n",
    "    url_list = list(set(url_list))\n",
    "    return url_list"
   ]
  },
  {
   "cell_type": "code",
   "execution_count": 4,
   "metadata": {},
   "outputs": [],
   "source": [
    "# for counties main page, the prefix is \"/Overview\"\n",
    "counties = get_url_list(\"/Overview\")"
   ]
  },
  {
   "cell_type": "code",
   "execution_count": 26,
   "metadata": {},
   "outputs": [],
   "source": [
    "# get all zipcode url, and responding county\n",
    "def get_zipcode_url():\n",
    "    county_zipcode = []\n",
    "    zipcode_url = []\n",
    "    for county in counties:\n",
    "        html = requests.get(county)\n",
    "        soup = BeautifulSoup(html.content, 'html.parser')\n",
    "        zipcodes = soup.select(\"div.info-table-contents-td.col-sm-9 div a\")\n",
    "        for zipcode in zipcodes:\n",
    "            if zipcode['href'].startswith(\"/zip\"):\n",
    "                a = zipcode['href']\n",
    "                a = a.replace(\"Overview\",\"Educational-Attainment\")\n",
    "                zipcode_url.append(root+a)\n",
    "                a = [county.split(\"/\")[5],zipcode['href'].split(\"/\")[2]]\n",
    "                county_zipcode.append(a)\n",
    "    return zipcode_url, county_zipcode"
   ]
  },
  {
   "cell_type": "code",
   "execution_count": 6,
   "metadata": {},
   "outputs": [],
   "source": [
    "# get the tags we need for the data under one county\n",
    "def get_soup(url):\n",
    "    html = requests.get(url)\n",
    "    soup = BeautifulSoup(html.content,'html.parser')\n",
    "    results = soup.select(\"div.figure-container svg g g title\")\n",
    "    return results"
   ]
  },
  {
   "cell_type": "code",
   "execution_count": 7,
   "metadata": {},
   "outputs": [],
   "source": [
    "# get educational attainement information for each county \n",
    "# parameter is the result returned by get_soup()\n",
    "def get_each_Educational_Attainment(results):\n",
    "    result = []\n",
    "    i = 0\n",
    "    for r in results:\n",
    "        if i < 3 and \"%\" in r.text.strip():\n",
    "            result.append(r.text.strip())\n",
    "            i = i + 1\n",
    "    if len(result) is not 0:\n",
    "        map = {\"Higher Degree\": result[0],\"H.S. Diploma\": result[1],\"No H.S. Diploma\": result[2]}\n",
    "    else:\n",
    "        map = {\"Higher Degree\": \"Not applicable\",\"H.S. Diploma\": \"Not applicable\",\"No H.S. Diploma\": \"Not applicable\"}\n",
    "    return(map)"
   ]
  },
  {
   "cell_type": "code",
   "execution_count": 9,
   "metadata": {},
   "outputs": [],
   "source": [
    "# get educational attainment information for all counties\n",
    "def get_all_Eductional_Attainment(url_list,index = 5):\n",
    "    i=0\n",
    "    headers = ['County','Higher Degree','H.S. Diploma','No H.S. Diploma']\n",
    "    df = pd.DataFrame(columns=headers)\n",
    "    for a_list in url_list:\n",
    "        county_name = a_list.split(\"/\")[index]\n",
    "        print(county_name + \":\")\n",
    "        valmap = get_each_Educational_Attainment(get_soup(a_list))\n",
    "        print(valmap)\n",
    "        print(\"\\n\")\n",
    "        county = [county_name]\n",
    "        mapvalue = list(valmap.values())\n",
    "        combList = county + mapvalue\n",
    "        df.loc[i] = combList\n",
    "        i += 1\n",
    "    return df"
   ]
  },
  {
   "cell_type": "code",
   "execution_count": 10,
   "metadata": {},
   "outputs": [],
   "source": [
    "# get detailed educational attainment information for each county\n",
    "# parameter is result returned from get_soup()\n",
    "def get_each_Detailed_Educational_Attainment(results):\n",
    "    result = []\n",
    "    i = 0\n",
    "    for r in results:\n",
    "        if i < 12 and \"%\" in r.text.strip():\n",
    "            i = i + 1\n",
    "        elif i < 22 and \"%\" in r.text.strip():\n",
    "            result.append(r.text.strip())\n",
    "            i = i + 1\n",
    "    if len(result) is not 0:\n",
    "        map = {\"Doctorate\": result[0],\"Professional\": result[1],\"Master's\": result[2],\n",
    "       \"Bachelor's\":result[3],\"Associate's\":result[4],\"Some College\":result[5],\n",
    "       \"High School\": result[6],\"Some H.S.\":result[7],\"Less than H.S.\":result[8],\n",
    "       \"None\":result[9]}\n",
    "    else:\n",
    "        map = {\"Doctorate\": \"Not applicable\",\"Professional\": \"Not applicable\",\"Master's\": \"Not applicable\",\n",
    "       \"Bachelor's\":\"Not applicable\",\"Associate's\":\"Not applicable\",\"Some College\":\"Not applicable\",\n",
    "       \"High School\": \"Not applicable\",\"Some H.S.\":\"Not applicable\",\"Less than H.S.\":\"Not applicable\",\n",
    "       \"None\":\"Not applicable\"}\n",
    "    return(map)"
   ]
  },
  {
   "cell_type": "code",
   "execution_count": 11,
   "metadata": {},
   "outputs": [],
   "source": [
    "# get detailed eudcational attainment for all counties\n",
    "def get_all_Detailed_Educational_Attainment(url_list, index = 5):\n",
    "    i=0\n",
    "    headers = ['County','Doctorate','Professional','Masters','Bachelor','Associate','Some College','High School','Some HS','Less than HS','None']\n",
    "    df = pd.DataFrame(columns=headers)\n",
    "    for a_list in url_list:\n",
    "        county_name = a_list.split(\"/\")[index]\n",
    "        print(county_name + \":\")\n",
    "        valmap = get_each_Detailed_Educational_Attainment(get_soup(a_list))\n",
    "        print(valmap)\n",
    "        print(\"\\n\")\n",
    "        county = [county_name]\n",
    "        mapvalue = list(valmap.values())\n",
    "        combList = county + mapvalue\n",
    "        df.loc[i] = combList\n",
    "        i += 1\n",
    "    return df"
   ]
  },
  {
   "cell_type": "code",
   "execution_count": 12,
   "metadata": {},
   "outputs": [],
   "source": [
    "# get eductaional attainment information regarding sex for each county\n",
    "# parameter is the result returned from get_soup()\n",
    "def get_each_Educational_Attainment_Sex_Ratio(results):\n",
    "    result = []\n",
    "    i = 0\n",
    "    for r in results:\n",
    "        if i < 53 and \"%\" in r.text.strip():\n",
    "            i = i + 1\n",
    "        elif i < 61 and \"%\" in r.text.strip():\n",
    "            if i == 52 or i == 55 or i ==58:\n",
    "                i = i + 1\n",
    "            else:\n",
    "                result.append(r.text.strip())\n",
    "                i = i + 1\n",
    "    if len(result) is not 0:\n",
    "        map = {\"Higher Degree (Female)\": result[0],\"Higher Degree (Male)\": result[1],\"H.S. Diploma (Female)\": result[2],\n",
    "       \"H.S. Diploma (Male)\":result[3],\"No H.S. Diploma (Female)\":result[4],\"No H.S. Diploma (Male)\":result[5]}\n",
    "    else:\n",
    "        map = {\"Higher Degree (Female)\": \"Not applicable\",\"Higher Degree (Male)\": \"Not applicable\",\"H.S. Diploma (Female)\": \"Not applicable\",\n",
    "       \"H.S. Diploma (Male)\":\"Not applicable\",\"No H.S. Diploma (Female)\":\"Not applicable\",\"No H.S. Diploma (Male)\":\"Not applicable\"}\n",
    "    return(map)"
   ]
  },
  {
   "cell_type": "code",
   "execution_count": 13,
   "metadata": {},
   "outputs": [],
   "source": [
    "# get eductaional attainment information regard sex for all counties\n",
    "def get_all_Educational_Attainment_Sex_Ratio(url_list, index = 5):\n",
    "    i = 0\n",
    "    headers = ['County', 'Higher Degree (Female)', 'Higher Degree (Male)', 'H.S. Diploma (Female)',\n",
    "               'H.S. Diploma (Male)', 'No H.S. Diploma (Female)', 'No H.S. Diploma (Male)']\n",
    "    df = pd.DataFrame(columns=headers)\n",
    "    for a_list in url_list:\n",
    "        county_name = a_list.split(\"/\")[index]\n",
    "        print(county_name + \":\")\n",
    "        valmap = get_each_Educational_Attainment_Sex_Ratio(get_soup(a_list))\n",
    "        print(valmap)\n",
    "        print()\n",
    "        county = [county_name]\n",
    "        mapvalue = list(valmap.values())\n",
    "        combList = county + mapvalue\n",
    "        df.loc[i] = combList\n",
    "        i += 1\n",
    "    return df"
   ]
  },
  {
   "cell_type": "code",
   "execution_count": 14,
   "metadata": {},
   "outputs": [],
   "source": [
    "# get detailed eductaional attainment information regarding sex for each county\n",
    "# parameter is the result returned from get_soup()\n",
    "def get_each_Detailed_Educational_Attainment_Sex_Ratio(results):\n",
    "    male_result = []\n",
    "    female_result = []\n",
    "    i = 0\n",
    "    for r in results:\n",
    "        if i < 62 and \"%\" in r.text.strip():\n",
    "            i = i + 1\n",
    "        elif i%3 == 2 and \"%\" in r.text.strip():\n",
    "            female_result.append(r.text.strip())\n",
    "            i = i + 1\n",
    "        elif i%3 == 0 and \"%\" in r.text.strip():\n",
    "            male_result.append(r.text.strip())\n",
    "            i = i + 1\n",
    "        elif \"%\" in r.text.strip():\n",
    "            i = i + 1\n",
    "    if len(male_result) is not 0 and len(female_result) is not 0:\n",
    "        map = {\"Female\":{\"Doctorate\": female_result[0],\"Professional\": female_result[1],\n",
    "        \"Master's\": female_result[2],\"Bachelor's\":female_result[3],\"Associate's\":female_result[4],\n",
    "        \"Some College\":female_result[5],\"High School\": female_result[6],\"Some H.S.\":female_result[7],\n",
    "        \"Less than H.S.\":female_result[8], \"None\":female_result[9]},\n",
    "        \"Male\":{\"Doctorate\": male_result[0],\"Professional\": male_result[1],\n",
    "        \"Master's\": male_result[2],\"Bachelor's\":male_result[3],\"Associate's\":male_result[4],\n",
    "        \"Some College\":male_result[5],\"High School\": male_result[6],\"Some H.S.\":male_result[7],\n",
    "        \"Less than H.S.\":male_result[8], \"None\":male_result[9]}}\n",
    "    else:\n",
    "        map = {\"Female\":{\"Doctorate\": \"Not applicable\",\"Professional\": \"Not applicable\",\n",
    "        \"Master's\": \"Not applicable\",\"Bachelor's\":\"Not applicable\",\"Associate's\":\"Not applicable\",\n",
    "        \"Some College\":\"Not applicable\",\"High School\": \"Not applicable\",\"Some H.S.\":\"Not applicable\",\n",
    "        \"Less than H.S.\":\"Not applicable\", \"None\":\"Not applicable\"},\n",
    "        \"Male\":{\"Doctorate\": \"Not applicable\",\"Professional\": \"Not applicable\",\n",
    "        \"Master's\": \"Not applicable\",\"Bachelor's\":\"Not applicable\",\"Associate's\":\"Not applicable\",\n",
    "        \"Some College\":\"Not applicable\",\"High School\": \"Not applicable\",\"Some H.S.\":\"Not applicable\",\n",
    "        \"Less than H.S.\":\"Not applicable\", \"None\":\"Not applicable\"}}\n",
    "    return(map)"
   ]
  },
  {
   "cell_type": "code",
   "execution_count": 15,
   "metadata": {},
   "outputs": [],
   "source": [
    "# get detailed eductaional attainment information regard sex for all counties\n",
    "def get_all_Detailed_Educational_Attainment_Sex_Ratio(url_list, index = 5):\n",
    "    i=0\n",
    "    headersF = ['County','Doctorate F','Professional F','Masters F','Bachelor F','Associate F','Some College F','High School F','Some HS F','Less than HS F','None F']\n",
    "    headersM = ['County','Doctorate M','Professional M','Masters M','Bachelor M','Associate M','Some College M','High School M','Some HS M','Less than HS M','None M']\n",
    "    dff = pd.DataFrame(columns=headersF)\n",
    "    dfm = pd.DataFrame(columns=headersM)\n",
    "    for a_list in url_list:\n",
    "        county_name = a_list.split(\"/\")[index]\n",
    "        print(county_name + \":\")\n",
    "        Cmap = get_each_Detailed_Educational_Attainment_Sex_Ratio(get_soup(a_list))\n",
    "        print(Cmap)\n",
    "        print()\n",
    "        print(\"\\n\")\n",
    "        county = [county_name]\n",
    "        mf = list(Cmap.values())\n",
    "        female = list(mf[0].values())\n",
    "        male = list(mf[1].values())\n",
    "        combF = county + female\n",
    "        combM = county + male\n",
    "        dff.loc[i] = combF\n",
    "        dfm.loc[i] = combM\n",
    "        i += 1\n",
    "    return dff,dfm"
   ]
  },
  {
   "cell_type": "code",
   "execution_count": 16,
   "metadata": {},
   "outputs": [],
   "source": [
    "# get bachelor degree information broken down by age for each county\n",
    "# parameter is result returned from get_soup()\n",
    "def get_each_Bachelor_Degree_by_Age(results):\n",
    "    result = []\n",
    "    i = 0\n",
    "    for r in results:\n",
    "        if i < 91 and \"%\" in r.text.strip():\n",
    "            i = i + 1\n",
    "        elif i < 95 and \"%\" in r.text.strip():\n",
    "            result.append(r.text.strip())\n",
    "            i = i + 1\n",
    "    if len(result) is not 0:\n",
    "        map = {\"65+\":result[0],\"45-64\":result[1],\"35-44\":result[2],\"25-34\":result[3]}\n",
    "    else:\n",
    "        map = {\"65+\":\"Not applicable\",\"45-64\":\"Not applicable\",\"35-44\":\"Not applicable\",\"25-34\": \"Not applicable\"}\n",
    "    return(map)"
   ]
  },
  {
   "cell_type": "code",
   "execution_count": 17,
   "metadata": {},
   "outputs": [],
   "source": [
    "# get bachelor degree information broken down by age for all counties\n",
    "def get_all_Bachelor_Degree_by_Age(url_list, index = 5):\n",
    "    i=0\n",
    "    headers = ['County','65+','45-64','35-44','25-34']\n",
    "    df = pd.DataFrame(columns=headers)\n",
    "    for a_list in url_list:\n",
    "        county_name = a_list.split(\"/\")[index]\n",
    "        print(county_name + \":\")\n",
    "        valmap = get_each_Bachelor_Degree_by_Age(get_soup(a_list))\n",
    "        print(valmap)\n",
    "        print(\"\\n\")\n",
    "        county = [county_name]\n",
    "        mapvalue = list(valmap.values())\n",
    "        combList = county + mapvalue\n",
    "        print(combList)\n",
    "        df.loc[i] = combList\n",
    "        i += 1\n",
    "    return df"
   ]
  },
  {
   "cell_type": "code",
   "execution_count": null,
   "metadata": {},
   "outputs": [],
   "source": [
    "# save all returned data into csv file\n",
    "savedData0 = get_all_Eductional_Attainment(get_url_list())\n",
    "savedData0.to_csv('files/AllEduAttainment.csv', sep=',', encoding='utf-8')\n",
    "\n",
    "savedData1 = get_all_Detailed_Educational_Attainment(get_url_list())\n",
    "savedData1.to_csv('files/AllDetailedEduAttainment.csv', sep=',', encoding='utf-8')\n",
    "\n",
    "savedData2 = get_all_Educational_Attainment_Sex_Ratio(get_url_list())\n",
    "savedData2.to_csv('files/AllEduAttainmentSexRatio.csv', sep=',', encoding='utf-8')\n",
    "\n",
    "savedData2f, savedData2m = get_all_Detailed_Educational_Attainment_Sex_Ratio(get_url_list())\n",
    "savedData2f.to_csv('files/ADEASexRatioFemale.csv', sep=',', encoding='utf-8')\n",
    "savedData2m.to_csv('files/ADEASexRatioMale.csv', sep=',', encoding='utf-8')\n",
    "\n",
    "savedData3 = get_all_Bachelor_Degree_by_Age(get_url_list())\n",
    "savedData3.to_csv('files/AllBachDegreeByAge.csv', sep=',', encoding='utf-8')"
   ]
  },
  {
   "cell_type": "markdown",
   "metadata": {},
   "source": [
    "### This part is used for zip code level data scraping"
   ]
  },
  {
   "cell_type": "markdown",
   "metadata": {},
   "source": [
    "#### Since our project is focused on county level analysis because of the time limit, the following part can be used in futher development"
   ]
  },
  {
   "cell_type": "raw",
   "metadata": {},
   "source": [
    "zipcode_url, county_zipcode = get_zipcode_url()"
   ]
  },
  {
   "cell_type": "raw",
   "metadata": {},
   "source": [
    "label = ['county','zipcode']\n",
    "df = pd.DataFrame.from_records(county_zipcode, columns = label)"
   ]
  },
  {
   "cell_type": "raw",
   "metadata": {},
   "source": [
    "df.to_csv('county_zipcode.csv', sep = \",\", encoding = 'utf-8')"
   ]
  },
  {
   "cell_type": "raw",
   "metadata": {},
   "source": [
    "for c in zipcode_url:\n",
    "    c.replace(\"Overview\",\"Educational-Attainment\")"
   ]
  },
  {
   "cell_type": "raw",
   "metadata": {},
   "source": [
    "zip_1 = get_all_Enductional_Attainment(zipcode_url,4)\n",
    "zip_1.to_csv('zip_AllEduAttainment.csv', sep=',', encoding='utf-8')\n",
    "\n",
    "zip_2 = get_all_Detailed_Educational_Attainment(zipcode_url,4)\n",
    "zip_2.to_csv('zip_AllDetailedEduAttainment.csv', sep=',', encoding='utf-8')\n",
    "\n",
    "zip_3 = get_all_Educational_Attainment_Sex_Ratio(zipcode_url,4)\n",
    "zip_3.to_csv('zip_AllEduAttainmentSexRatio.csv', sep=',', encoding='utf-8')\n",
    "\n",
    "zip_f, zip_m = get_all_Detailed_Educational_Attainment_Sex_Ratio(zipcode_url,4)\n",
    "zip_f.to_csv('zip_ADEASexRatioFemale.csv', sep=',', encoding='utf-8')\n",
    "zip_m.to_csv('zip_ADEASexRatioMale.csv', sep=',', encoding='utf-8')\n",
    "\n",
    "zip_4 = get_all_Enductional_Attainment(zipcode_url,4)\n",
    "zip_4.to_csv('zip_AllBachDegreeByAge.csv', sep=',', encoding='utf-8')"
   ]
  }
 ],
 "metadata": {
  "kernelspec": {
   "display_name": "Python 3",
   "language": "python",
   "name": "python3"
  },
  "language_info": {
   "codemirror_mode": {
    "name": "ipython",
    "version": 3
   },
   "file_extension": ".py",
   "mimetype": "text/x-python",
   "name": "python",
   "nbconvert_exporter": "python",
   "pygments_lexer": "ipython3",
   "version": "3.6.5"
  }
 },
 "nbformat": 4,
 "nbformat_minor": 2
}
