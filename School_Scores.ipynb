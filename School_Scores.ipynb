{
 "cells": [
  {
   "cell_type": "code",
   "execution_count": 1,
   "metadata": {},
   "outputs": [],
   "source": [
    "import pandas as pd"
   ]
  },
  {
   "cell_type": "code",
   "execution_count": 2,
   "metadata": {},
   "outputs": [],
   "source": [
    "# Main method for getting my school scores csv file in a summarized form\n",
    "def main():\n",
    "    file = 'files/2016_PSSA_School_Level_Perfomance_Results.csv'\n",
    "    ss_df = pd.DataFrame(pd.read_csv(file, sep=',', encoding='utf-8'))\n",
    "\n",
    "    # Boolean index to pull in only total student scores that are school level\n",
    "    boolindex = (ss_df['Group'] == 'All Students') & (ss_df['Grade'] == 'School Total') & (ss_df['% Below Basic'].notnull())\n",
    "    ss_df = ss_df[boolindex]\n",
    "    grouped_data = ss_df.groupby('School')\n",
    "\n",
    "    # Create df that will hold the summarized rows of data\n",
    "    summarized_data = pd.DataFrame(columns=['County', 'School Number', 'School', '% Advanced', '% Proficient', '% Basic', '% Below Basic'])\n",
    "\n",
    "    # Loop over all grouped data and summarize it with a call to my sum_school_scores method\n",
    "    index = 0\n",
    "    for name, group in grouped_data:\n",
    "        sum_row = sum_school_scores(name, group)\n",
    "        summarized_data.loc[index] = sum_row\n",
    "        index += 1\n",
    "    summarized_data.to_csv('files/Summarized_School_Scores.csv', sep=',', encoding='utf-8')"
   ]
  },
  {
   "cell_type": "code",
   "execution_count": 3,
   "metadata": {},
   "outputs": [],
   "source": [
    "# Method that takes in groups of school data and summarizes all of the educational data into one row of weighted data\n",
    "def sum_school_scores(name, data):\n",
    "    advsum = 0\n",
    "    prosum = 0\n",
    "    bsum = 0\n",
    "    bbsum = 0\n",
    "    num = 0\n",
    "    # Grab all of the school score data, weight it by number of students taking the tests, then return the data\n",
    "    for index, row in data.iterrows():\n",
    "        county = row['County']\n",
    "        snum = row['School Number']\n",
    "        numcount = row['Number Scored']\n",
    "        advsum += row['% Advanced'] * numcount\n",
    "        prosum += row['% Proficient'] * numcount\n",
    "        bsum += row['% Basic'] * numcount\n",
    "        bbsum += row['% Below Basic'] * numcount\n",
    "        num += numcount\n",
    "    sum_data = [county, snum, name, round(advsum/num, 2), round(prosum/num, 2), round(bsum/num, 2), round(bbsum/num, 2)]\n",
    "    return sum_data"
   ]
  },
  {
   "cell_type": "code",
   "execution_count": 4,
   "metadata": {},
   "outputs": [],
   "source": [
    "if __name__ == '__main__':\n",
    "    main()"
   ]
  }
 ],
 "metadata": {
  "kernelspec": {
   "display_name": "Python 3",
   "language": "python",
   "name": "python3"
  },
  "language_info": {
   "codemirror_mode": {
    "name": "ipython",
    "version": 3
   },
   "file_extension": ".py",
   "mimetype": "text/x-python",
   "name": "python",
   "nbconvert_exporter": "python",
   "pygments_lexer": "ipython3",
   "version": "3.6.5"
  }
 },
 "nbformat": 4,
 "nbformat_minor": 2
}
