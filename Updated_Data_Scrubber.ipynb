{
 "cells": [
  {
   "cell_type": "code",
   "execution_count": 1,
   "metadata": {},
   "outputs": [],
   "source": [
    "#Imports needed for the methods in this py file.\n",
    "import pandas as pd"
   ]
  },
  {
   "cell_type": "code",
   "execution_count": 2,
   "metadata": {},
   "outputs": [],
   "source": [
    "# Main tag where I load in the data I scrapped, clean it and then save it to a .csv file\n",
    "def main(file, stringclean=False):\n",
    "    loadeddata = loadindata(file)\n",
    "    cleaned_data = mrclean(loadeddata, stringclean)\n",
    "    # Convert it to a Dataframe object and save it to a .csv\n",
    "    DF_CD = pd.DataFrame(cleaned_data)\n",
    "    alleduatt = pd.read_csv('files/AllEduAttainment.csv')\n",
    "    schoollevel = pd.read_csv('files/2016_PSSA_School_Level_Perfomance_Results.csv')\n",
    "    DF_CD.columns = ['City Name', 'Population', 'Age', 'Average Income', 'Percent of Men in City', 'Percent of Women in City', 'Per Capita Income', 'Median House Value', 'Racial Breakdown', 'County']\n",
    "    alleduatt.columns = ['Index', 'County', 'Higher Degree', 'H.S Diploma', 'No H.S Diploma']\n",
    "\n",
    "    # Do secondary cleaning to remove all additional special characters\n",
    "    DF_CD = cd_file_cleanpass2(DF_CD)\n",
    "    alleduatt = all_edu_cleaner(alleduatt)\n",
    "    schoollevel = school_level_cleaner(schoollevel)\n",
    "\n",
    "    # Save files to CSV files\n",
    "    DF_CD.to_csv('files/Fully_Cleaned_CD_Data.csv', sep=',', encoding='utf-8')\n",
    "    alleduatt.to_csv('files/Fully_Cleaned_AEA_Data.csv', sep=',', encoding='utf-8')\n",
    "    schoollevel.to_csv('files/Fully_Cleaned_SS_Data.csv', sep=',', encoding='utf-8')"
   ]
  },
  {
   "cell_type": "code",
   "execution_count": 3,
   "metadata": {},
   "outputs": [],
   "source": [
    "# Method to read in data I saved off with CD_scraping.py for cleaning\n",
    "def loadindata(file):\n",
    "    arr = list()\n",
    "    with open(file, 'r') as f:\n",
    "        for line in f:\n",
    "            arr.append(line)\n",
    "    return arr\n",
    "\n",
    "\n",
    "def loadincsv(filename):\n",
    "    pssa = pd.read_csv(filename)\n",
    "    print(pssa)\n",
    "    return pssa"
   ]
  },
  {
   "cell_type": "code",
   "execution_count": 4,
   "metadata": {},
   "outputs": [],
   "source": [
    "# Second pass on cleaning data in preparation for data analysis, this uses some of the more advanced methods we learned in class\n",
    "def cd_file_cleanpass2(data):\n",
    "    # Remove $ and , from Average Income\n",
    "    data['Average Income'] = data['Average Income'].str.replace('$', '')\n",
    "    data['Average Income'] = data['Average Income'].str.replace(',', '')\n",
    "    data['Average Income'] = data['Average Income'].str.replace('over', '200000')\n",
    "\n",
    "    # Remove $ and , from Per Capita Income\n",
    "    data['Per Capita Income'] = data['Per Capita Income'].str.replace('$', '')\n",
    "    data['Per Capita Income'] = data['Per Capita Income'].str.replace(',', '')\n",
    "\n",
    "    # Remove $ and , from Median House Value\n",
    "    data['Median House Value'] = data['Median House Value'].str.replace('$', '')\n",
    "    data['Median House Value'] = data['Median House Value'].str.replace(',', '')\n",
    "    data['Median House Value'] = data['Median House Value'].str.replace('over ', '')\n",
    "\n",
    "    # Remove % from Men and Women percentages in city\n",
    "    data['Percent of Men in City'] = data['Percent of Men in City'].str.replace('%', '')\n",
    "    data['Percent of Women in City'] = data['Percent of Women in City'].str.replace('%', '')\n",
    "\n",
    "    # Make population column into a integer and not string by removing comma\n",
    "    data['Population'] = data['Population'].str.replace(',', '')\n",
    "\n",
    "    # Get my county column in the same format as other files so we can user DataFram.Merge call\n",
    "    data['County'] = data['County'].str.replace(' ', '-').str.strip()\n",
    "    return data"
   ]
  },
  {
   "cell_type": "code",
   "execution_count": 5,
   "metadata": {},
   "outputs": [],
   "source": [
    "def all_edu_cleaner(data):\n",
    "    # Clean out all % signs from the educational attainment dataset\n",
    "    data['Higher Degree'] = data['Higher Degree'].str.replace('%', '')\n",
    "    data['H.S Diploma'] = data['H.S Diploma'].str.replace('%', '')\n",
    "    data['No H.S Diploma'] = data['No H.S Diploma'].str.replace('%', '')\n",
    "    data['County'] = data['County'].str.strip()\n",
    "    return data"
   ]
  },
  {
   "cell_type": "code",
   "execution_count": 6,
   "metadata": {},
   "outputs": [],
   "source": [
    "def school_level_cleaner(data):\n",
    "    # get counties in title case with -County appended\n",
    "    data['County'] = data['County'].str.title()\n",
    "    data['County'] = data['County'] + '-County'\n",
    "    return data"
   ]
  },
  {
   "cell_type": "code",
   "execution_count": 7,
   "metadata": {},
   "outputs": [],
   "source": [
    "# Method to take in all rows of city data and clean each element, wrote this before learning about pandas cleaning techniques\n",
    "def mrclean(array, stringclean):\n",
    "    cdata = list()\n",
    "    for i in range(len(array)):\n",
    "        dataarray = array[i].split(\"',\")\n",
    "\n",
    "        # Grab and clean city name\n",
    "        cityarray = dataarray[0][2:]\n",
    "\n",
    "        metricarray = dataarray[1].split(\"|\")\n",
    "\n",
    "        # Grab and clean city population\n",
    "        poparray = metricarray[0].split(\" \")[2]\n",
    "\n",
    "        # Grab and clean average age\n",
    "        agearray = metricarray[1].split(\" \")[1][4:]\n",
    "\n",
    "        # Grab and clean average income\n",
    "        avgincarray = metricarray[2].lstrip().split(\" \")[0]\n",
    "\n",
    "        # Grab and clean percent of men in counties\n",
    "        permenarray = metricarray[3][6:-2]\n",
    "\n",
    "        # Grab and clean percent of women in counties\n",
    "        perwomarray = metricarray[4][6:-2]\n",
    "\n",
    "        # Grab and clean per capita income\n",
    "        percaparray = metricarray[5].lstrip().split(\" \")[0]\n",
    "\n",
    "        # Grab Median House value and clean it\n",
    "        if metricarray[6].strip()[-1] == 'n':\n",
    "            mhvarray = metricarray[6].strip()[:-4]\n",
    "        elif metricarray[6].strip()[-1] == '(':\n",
    "            mhvarray = metricarray[6].strip()[:-2]\n",
    "\n",
    "        # Grab Racial Breakdown and clean it\n",
    "        racearray = metricarray[7]\n",
    "        try:\n",
    "            if racearray[-4:-1] == \"])]\":\n",
    "                racearray\n",
    "            elif racearray.strip() == \"[]\":\n",
    "                racearray = \"*\"\n",
    "            else:\n",
    "                racearray = racearray + \" \" + dataarray[-1].split(\" | \")[0][5:]\n",
    "        except:\n",
    "            pass\n",
    "\n",
    "        # Grab county and clean it\n",
    "        try:\n",
    "            countyarray = dataarray[-1].split(\" | \")[-1][0:-3]\n",
    "        except:\n",
    "            countyarray = \"***\"\n",
    "\n",
    "        if stringclean is True:\n",
    "            ip = [str(cityarray), str(poparray), str(agearray), str(avgincarray), str(permenarray), str(perwomarray),\n",
    "                  str(percaparray), str(mhvarray), str(racearray), str(countyarray)]\n",
    "        else:\n",
    "            ip = [cityarray, poparray, agearray, avgincarray, permenarray, perwomarray, percaparray, mhvarray, racearray, countyarray]\n",
    "        cdata.append(ip)\n",
    "    return cdata"
   ]
  },
  {
   "cell_type": "code",
   "execution_count": 8,
   "metadata": {},
   "outputs": [],
   "source": [
    "if __name__ == \"__main__\":\n",
    "    main(\"files/all_cities.py\")\n",
    "    # csvfile = loadincsv('files/2016_PSSA_School_Level_Perfomance_Results.csv')"
   ]
  },
  {
   "cell_type": "code",
   "execution_count": null,
   "metadata": {},
   "outputs": [],
   "source": []
  }
 ],
 "metadata": {
  "kernelspec": {
   "display_name": "Python 3",
   "language": "python",
   "name": "python3"
  },
  "language_info": {
   "codemirror_mode": {
    "name": "ipython",
    "version": 3
   },
   "file_extension": ".py",
   "mimetype": "text/x-python",
   "name": "python",
   "nbconvert_exporter": "python",
   "pygments_lexer": "ipython3",
   "version": "3.6.5"
  }
 },
 "nbformat": 4,
 "nbformat_minor": 2
}
